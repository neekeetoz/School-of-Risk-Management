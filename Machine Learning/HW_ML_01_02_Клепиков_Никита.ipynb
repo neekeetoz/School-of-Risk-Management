{
 "cells": [
  {
   "cell_type": "markdown",
   "id": "02126cfa",
   "metadata": {},
   "source": [
    "# Pandas"
   ]
  },
  {
   "cell_type": "code",
   "execution_count": 1,
   "id": "1f9d0eca",
   "metadata": {},
   "outputs": [],
   "source": [
    "import pandas as pd"
   ]
  },
  {
   "cell_type": "code",
   "execution_count": 2,
   "id": "9e309c21",
   "metadata": {},
   "outputs": [],
   "source": [
    "data = pd.read_csv('./HW_ML_01_02_BlackFriday.csv')"
   ]
  },
  {
   "cell_type": "code",
   "execution_count": 3,
   "id": "cf53dd61",
   "metadata": {},
   "outputs": [
    {
     "data": {
      "text/html": [
       "<div>\n",
       "<style scoped>\n",
       "    .dataframe tbody tr th:only-of-type {\n",
       "        vertical-align: middle;\n",
       "    }\n",
       "\n",
       "    .dataframe tbody tr th {\n",
       "        vertical-align: top;\n",
       "    }\n",
       "\n",
       "    .dataframe thead th {\n",
       "        text-align: right;\n",
       "    }\n",
       "</style>\n",
       "<table border=\"1\" class=\"dataframe\">\n",
       "  <thead>\n",
       "    <tr style=\"text-align: right;\">\n",
       "      <th></th>\n",
       "      <th>User_ID</th>\n",
       "      <th>Product_ID</th>\n",
       "      <th>Gender</th>\n",
       "      <th>Age</th>\n",
       "      <th>Occupation</th>\n",
       "      <th>City_Category</th>\n",
       "      <th>Stay_In_Current_City_Years</th>\n",
       "      <th>Marital_Status</th>\n",
       "      <th>Product_Category_1</th>\n",
       "      <th>Product_Category_2</th>\n",
       "      <th>Product_Category_3</th>\n",
       "      <th>Purchase</th>\n",
       "    </tr>\n",
       "  </thead>\n",
       "  <tbody>\n",
       "    <tr>\n",
       "      <th>0</th>\n",
       "      <td>1000001</td>\n",
       "      <td>P00069042</td>\n",
       "      <td>F</td>\n",
       "      <td>0-17</td>\n",
       "      <td>10</td>\n",
       "      <td>A</td>\n",
       "      <td>2</td>\n",
       "      <td>0</td>\n",
       "      <td>3</td>\n",
       "      <td>NaN</td>\n",
       "      <td>NaN</td>\n",
       "      <td>8370</td>\n",
       "    </tr>\n",
       "    <tr>\n",
       "      <th>1</th>\n",
       "      <td>1000001</td>\n",
       "      <td>P00248942</td>\n",
       "      <td>F</td>\n",
       "      <td>0-17</td>\n",
       "      <td>10</td>\n",
       "      <td>A</td>\n",
       "      <td>2</td>\n",
       "      <td>0</td>\n",
       "      <td>1</td>\n",
       "      <td>6.0</td>\n",
       "      <td>14.0</td>\n",
       "      <td>15200</td>\n",
       "    </tr>\n",
       "    <tr>\n",
       "      <th>2</th>\n",
       "      <td>1000001</td>\n",
       "      <td>P00087842</td>\n",
       "      <td>F</td>\n",
       "      <td>0-17</td>\n",
       "      <td>10</td>\n",
       "      <td>A</td>\n",
       "      <td>2</td>\n",
       "      <td>0</td>\n",
       "      <td>12</td>\n",
       "      <td>NaN</td>\n",
       "      <td>NaN</td>\n",
       "      <td>1422</td>\n",
       "    </tr>\n",
       "    <tr>\n",
       "      <th>3</th>\n",
       "      <td>1000001</td>\n",
       "      <td>P00085442</td>\n",
       "      <td>F</td>\n",
       "      <td>0-17</td>\n",
       "      <td>10</td>\n",
       "      <td>A</td>\n",
       "      <td>2</td>\n",
       "      <td>0</td>\n",
       "      <td>12</td>\n",
       "      <td>14.0</td>\n",
       "      <td>NaN</td>\n",
       "      <td>1057</td>\n",
       "    </tr>\n",
       "    <tr>\n",
       "      <th>4</th>\n",
       "      <td>1000002</td>\n",
       "      <td>P00285442</td>\n",
       "      <td>M</td>\n",
       "      <td>55+</td>\n",
       "      <td>16</td>\n",
       "      <td>C</td>\n",
       "      <td>4+</td>\n",
       "      <td>0</td>\n",
       "      <td>8</td>\n",
       "      <td>NaN</td>\n",
       "      <td>NaN</td>\n",
       "      <td>7969</td>\n",
       "    </tr>\n",
       "    <tr>\n",
       "      <th>5</th>\n",
       "      <td>1000003</td>\n",
       "      <td>P00193542</td>\n",
       "      <td>M</td>\n",
       "      <td>26-35</td>\n",
       "      <td>15</td>\n",
       "      <td>A</td>\n",
       "      <td>3</td>\n",
       "      <td>0</td>\n",
       "      <td>1</td>\n",
       "      <td>2.0</td>\n",
       "      <td>NaN</td>\n",
       "      <td>15227</td>\n",
       "    </tr>\n",
       "    <tr>\n",
       "      <th>6</th>\n",
       "      <td>1000004</td>\n",
       "      <td>P00184942</td>\n",
       "      <td>M</td>\n",
       "      <td>46-50</td>\n",
       "      <td>7</td>\n",
       "      <td>B</td>\n",
       "      <td>2</td>\n",
       "      <td>1</td>\n",
       "      <td>1</td>\n",
       "      <td>8.0</td>\n",
       "      <td>17.0</td>\n",
       "      <td>19215</td>\n",
       "    </tr>\n",
       "    <tr>\n",
       "      <th>7</th>\n",
       "      <td>1000004</td>\n",
       "      <td>P00346142</td>\n",
       "      <td>M</td>\n",
       "      <td>46-50</td>\n",
       "      <td>7</td>\n",
       "      <td>B</td>\n",
       "      <td>2</td>\n",
       "      <td>1</td>\n",
       "      <td>1</td>\n",
       "      <td>15.0</td>\n",
       "      <td>NaN</td>\n",
       "      <td>15854</td>\n",
       "    </tr>\n",
       "    <tr>\n",
       "      <th>8</th>\n",
       "      <td>1000004</td>\n",
       "      <td>P0097242</td>\n",
       "      <td>M</td>\n",
       "      <td>46-50</td>\n",
       "      <td>7</td>\n",
       "      <td>B</td>\n",
       "      <td>2</td>\n",
       "      <td>1</td>\n",
       "      <td>1</td>\n",
       "      <td>16.0</td>\n",
       "      <td>NaN</td>\n",
       "      <td>15686</td>\n",
       "    </tr>\n",
       "    <tr>\n",
       "      <th>9</th>\n",
       "      <td>1000005</td>\n",
       "      <td>P00274942</td>\n",
       "      <td>M</td>\n",
       "      <td>26-35</td>\n",
       "      <td>20</td>\n",
       "      <td>A</td>\n",
       "      <td>1</td>\n",
       "      <td>1</td>\n",
       "      <td>8</td>\n",
       "      <td>NaN</td>\n",
       "      <td>NaN</td>\n",
       "      <td>7871</td>\n",
       "    </tr>\n",
       "  </tbody>\n",
       "</table>\n",
       "</div>"
      ],
      "text/plain": [
       "   User_ID Product_ID Gender    Age  Occupation City_Category  \\\n",
       "0  1000001  P00069042      F   0-17          10             A   \n",
       "1  1000001  P00248942      F   0-17          10             A   \n",
       "2  1000001  P00087842      F   0-17          10             A   \n",
       "3  1000001  P00085442      F   0-17          10             A   \n",
       "4  1000002  P00285442      M    55+          16             C   \n",
       "5  1000003  P00193542      M  26-35          15             A   \n",
       "6  1000004  P00184942      M  46-50           7             B   \n",
       "7  1000004  P00346142      M  46-50           7             B   \n",
       "8  1000004   P0097242      M  46-50           7             B   \n",
       "9  1000005  P00274942      M  26-35          20             A   \n",
       "\n",
       "  Stay_In_Current_City_Years  Marital_Status  Product_Category_1  \\\n",
       "0                          2               0                   3   \n",
       "1                          2               0                   1   \n",
       "2                          2               0                  12   \n",
       "3                          2               0                  12   \n",
       "4                         4+               0                   8   \n",
       "5                          3               0                   1   \n",
       "6                          2               1                   1   \n",
       "7                          2               1                   1   \n",
       "8                          2               1                   1   \n",
       "9                          1               1                   8   \n",
       "\n",
       "   Product_Category_2  Product_Category_3  Purchase  \n",
       "0                 NaN                 NaN      8370  \n",
       "1                 6.0                14.0     15200  \n",
       "2                 NaN                 NaN      1422  \n",
       "3                14.0                 NaN      1057  \n",
       "4                 NaN                 NaN      7969  \n",
       "5                 2.0                 NaN     15227  \n",
       "6                 8.0                17.0     19215  \n",
       "7                15.0                 NaN     15854  \n",
       "8                16.0                 NaN     15686  \n",
       "9                 NaN                 NaN      7871  "
      ]
     },
     "execution_count": 3,
     "metadata": {},
     "output_type": "execute_result"
    }
   ],
   "source": [
    "data.head(10)"
   ]
  },
  {
   "cell_type": "code",
   "execution_count": 4,
   "id": "b8424985",
   "metadata": {},
   "outputs": [
    {
     "name": "stdout",
     "output_type": "stream",
     "text": [
      "<class 'pandas.core.frame.DataFrame'>\n",
      "RangeIndex: 550068 entries, 0 to 550067\n",
      "Data columns (total 12 columns):\n",
      " #   Column                      Non-Null Count   Dtype  \n",
      "---  ------                      --------------   -----  \n",
      " 0   User_ID                     550068 non-null  int64  \n",
      " 1   Product_ID                  550068 non-null  object \n",
      " 2   Gender                      550068 non-null  object \n",
      " 3   Age                         550068 non-null  object \n",
      " 4   Occupation                  550068 non-null  int64  \n",
      " 5   City_Category               550068 non-null  object \n",
      " 6   Stay_In_Current_City_Years  550068 non-null  object \n",
      " 7   Marital_Status              550068 non-null  int64  \n",
      " 8   Product_Category_1          550068 non-null  int64  \n",
      " 9   Product_Category_2          376430 non-null  float64\n",
      " 10  Product_Category_3          166821 non-null  float64\n",
      " 11  Purchase                    550068 non-null  int64  \n",
      "dtypes: float64(2), int64(5), object(5)\n",
      "memory usage: 50.4+ MB\n"
     ]
    }
   ],
   "source": [
    "data.info()"
   ]
  },
  {
   "cell_type": "code",
   "execution_count": 5,
   "id": "d9d212a8",
   "metadata": {},
   "outputs": [
    {
     "data": {
      "text/plain": [
       "(550068, 12)"
      ]
     },
     "execution_count": 5,
     "metadata": {},
     "output_type": "execute_result"
    }
   ],
   "source": [
    "data.shape"
   ]
  },
  {
   "cell_type": "markdown",
   "id": "42427f1e",
   "metadata": {},
   "source": [
    "**Задание 1** (0.5 балла за каждый пункт)\n",
    "\n",
    "1. Сколько всего уникальных покупателей?\n",
    "2. Сколько женщин из города категории A старше 36 лет?\n",
    "3. Сколько покупателей от 26 до 35, потративших (столбец Purchase) больше 10000 у.е. и проживающих в городе категории В?\n",
    "4. Какая доля от всех покупок приходится на город категории А?\n"
   ]
  },
  {
   "cell_type": "code",
   "execution_count": 6,
   "id": "449ef867",
   "metadata": {},
   "outputs": [
    {
     "data": {
      "text/plain": [
       "5891"
      ]
     },
     "execution_count": 6,
     "metadata": {},
     "output_type": "execute_result"
    }
   ],
   "source": [
    "data['User_ID'].nunique()"
   ]
  },
  {
   "cell_type": "code",
   "execution_count": 7,
   "id": "a44111d7",
   "metadata": {},
   "outputs": [
    {
     "data": {
      "text/plain": [
       "10497"
      ]
     },
     "execution_count": 7,
     "metadata": {},
     "output_type": "execute_result"
    }
   ],
   "source": [
    "data[(data['Age'] >= '36-45') & (data['City_Category'] == 'A') & (data['Gender'] == 'F')].shape[0]"
   ]
  },
  {
   "cell_type": "code",
   "execution_count": 8,
   "id": "84135764",
   "metadata": {},
   "outputs": [
    {
     "data": {
      "text/plain": [
       "31063"
      ]
     },
     "execution_count": 8,
     "metadata": {},
     "output_type": "execute_result"
    }
   ],
   "source": [
    "data[(data['Age'] == '26-35') & (data['Purchase'] > 10000) & (data['City_Category'] == 'B')].shape[0]"
   ]
  },
  {
   "cell_type": "code",
   "execution_count": 9,
   "id": "72d0668f",
   "metadata": {},
   "outputs": [
    {
     "data": {
      "text/plain": [
       "0.26854861580750017"
      ]
     },
     "execution_count": 9,
     "metadata": {},
     "output_type": "execute_result"
    }
   ],
   "source": [
    "data[data['City_Category'] == 'A'].shape[0]/data.shape[0]"
   ]
  },
  {
   "cell_type": "markdown",
   "id": "01669bd4",
   "metadata": {},
   "source": [
    "**Задание 2** (1 балл за каждый пункт)\n",
    "\n",
    "1. Какая средняя сумма всех покупок на одного покупателя?\n",
    "2. Какое среднее число покупок делает покупатель каждого пола?\n",
    "2. Какая возрастная категория самая прибыльная?"
   ]
  },
  {
   "cell_type": "code",
   "execution_count": 10,
   "id": "6c73105d",
   "metadata": {},
   "outputs": [
    {
     "data": {
      "text/plain": [
       "9263.968712959126"
      ]
     },
     "execution_count": 10,
     "metadata": {},
     "output_type": "execute_result"
    }
   ],
   "source": [
    "data['Purchase'].mean()"
   ]
  },
  {
   "cell_type": "code",
   "execution_count": 11,
   "id": "25c06bc5",
   "metadata": {},
   "outputs": [
    {
     "data": {
      "text/plain": [
       "Gender\n",
       "F    135809\n",
       "M    414259\n",
       "Name: Gender, dtype: int64"
      ]
     },
     "execution_count": 11,
     "metadata": {},
     "output_type": "execute_result"
    }
   ],
   "source": [
    "data.groupby(\"Gender\")['Gender'].count()"
   ]
  },
  {
   "cell_type": "code",
   "execution_count": 12,
   "id": "94c22da6",
   "metadata": {},
   "outputs": [
    {
     "data": {
      "text/plain": [
       "'26-35'"
      ]
     },
     "execution_count": 12,
     "metadata": {},
     "output_type": "execute_result"
    }
   ],
   "source": [
    "data.groupby('Age')['Purchase'].sum().sort_index(axis=0, ascending=False).idxmax()"
   ]
  },
  {
   "cell_type": "markdown",
   "id": "ed605f06",
   "metadata": {},
   "source": [
    "**Задание 2** (1 балл)\n",
    "\n",
    "Создайте категориальную фичу Purchase_Сat с помощью колонки Purchase:\n",
    "\n",
    "1. Purchase_cat = '<5000' , если Purchase < 5000\n",
    "\n",
    "2. Purchase_cat = '5000 - 8000' , если 5000 <= Purchase < 8000\n",
    "\n",
    "2. Purchase_cat = '>=8000' , если 8000 <= Purchase"
   ]
  },
  {
   "cell_type": "code",
   "execution_count": 13,
   "id": "4fc72523",
   "metadata": {},
   "outputs": [
    {
     "data": {
      "text/html": [
       "<div>\n",
       "<style scoped>\n",
       "    .dataframe tbody tr th:only-of-type {\n",
       "        vertical-align: middle;\n",
       "    }\n",
       "\n",
       "    .dataframe tbody tr th {\n",
       "        vertical-align: top;\n",
       "    }\n",
       "\n",
       "    .dataframe thead th {\n",
       "        text-align: right;\n",
       "    }\n",
       "</style>\n",
       "<table border=\"1\" class=\"dataframe\">\n",
       "  <thead>\n",
       "    <tr style=\"text-align: right;\">\n",
       "      <th></th>\n",
       "      <th>User_ID</th>\n",
       "      <th>Product_ID</th>\n",
       "      <th>Gender</th>\n",
       "      <th>Age</th>\n",
       "      <th>Occupation</th>\n",
       "      <th>City_Category</th>\n",
       "      <th>Stay_In_Current_City_Years</th>\n",
       "      <th>Marital_Status</th>\n",
       "      <th>Product_Category_1</th>\n",
       "      <th>Product_Category_2</th>\n",
       "      <th>Product_Category_3</th>\n",
       "      <th>Purchase</th>\n",
       "      <th>Purchase_Cat</th>\n",
       "    </tr>\n",
       "  </thead>\n",
       "  <tbody>\n",
       "    <tr>\n",
       "      <th>0</th>\n",
       "      <td>1000001</td>\n",
       "      <td>P00069042</td>\n",
       "      <td>F</td>\n",
       "      <td>0-17</td>\n",
       "      <td>10</td>\n",
       "      <td>A</td>\n",
       "      <td>2</td>\n",
       "      <td>0</td>\n",
       "      <td>3</td>\n",
       "      <td>NaN</td>\n",
       "      <td>NaN</td>\n",
       "      <td>8370</td>\n",
       "      <td>&gt;=8000</td>\n",
       "    </tr>\n",
       "    <tr>\n",
       "      <th>1</th>\n",
       "      <td>1000001</td>\n",
       "      <td>P00248942</td>\n",
       "      <td>F</td>\n",
       "      <td>0-17</td>\n",
       "      <td>10</td>\n",
       "      <td>A</td>\n",
       "      <td>2</td>\n",
       "      <td>0</td>\n",
       "      <td>1</td>\n",
       "      <td>6.0</td>\n",
       "      <td>14.0</td>\n",
       "      <td>15200</td>\n",
       "      <td>&gt;=8000</td>\n",
       "    </tr>\n",
       "    <tr>\n",
       "      <th>2</th>\n",
       "      <td>1000001</td>\n",
       "      <td>P00087842</td>\n",
       "      <td>F</td>\n",
       "      <td>0-17</td>\n",
       "      <td>10</td>\n",
       "      <td>A</td>\n",
       "      <td>2</td>\n",
       "      <td>0</td>\n",
       "      <td>12</td>\n",
       "      <td>NaN</td>\n",
       "      <td>NaN</td>\n",
       "      <td>1422</td>\n",
       "      <td>&lt;5000</td>\n",
       "    </tr>\n",
       "    <tr>\n",
       "      <th>3</th>\n",
       "      <td>1000001</td>\n",
       "      <td>P00085442</td>\n",
       "      <td>F</td>\n",
       "      <td>0-17</td>\n",
       "      <td>10</td>\n",
       "      <td>A</td>\n",
       "      <td>2</td>\n",
       "      <td>0</td>\n",
       "      <td>12</td>\n",
       "      <td>14.0</td>\n",
       "      <td>NaN</td>\n",
       "      <td>1057</td>\n",
       "      <td>&lt;5000</td>\n",
       "    </tr>\n",
       "    <tr>\n",
       "      <th>4</th>\n",
       "      <td>1000002</td>\n",
       "      <td>P00285442</td>\n",
       "      <td>M</td>\n",
       "      <td>55+</td>\n",
       "      <td>16</td>\n",
       "      <td>C</td>\n",
       "      <td>4+</td>\n",
       "      <td>0</td>\n",
       "      <td>8</td>\n",
       "      <td>NaN</td>\n",
       "      <td>NaN</td>\n",
       "      <td>7969</td>\n",
       "      <td>5000 - 8000</td>\n",
       "    </tr>\n",
       "  </tbody>\n",
       "</table>\n",
       "</div>"
      ],
      "text/plain": [
       "   User_ID Product_ID Gender   Age  Occupation City_Category  \\\n",
       "0  1000001  P00069042      F  0-17          10             A   \n",
       "1  1000001  P00248942      F  0-17          10             A   \n",
       "2  1000001  P00087842      F  0-17          10             A   \n",
       "3  1000001  P00085442      F  0-17          10             A   \n",
       "4  1000002  P00285442      M   55+          16             C   \n",
       "\n",
       "  Stay_In_Current_City_Years  Marital_Status  Product_Category_1  \\\n",
       "0                          2               0                   3   \n",
       "1                          2               0                   1   \n",
       "2                          2               0                  12   \n",
       "3                          2               0                  12   \n",
       "4                         4+               0                   8   \n",
       "\n",
       "   Product_Category_2  Product_Category_3  Purchase Purchase_Cat  \n",
       "0                 NaN                 NaN      8370       >=8000  \n",
       "1                 6.0                14.0     15200       >=8000  \n",
       "2                 NaN                 NaN      1422        <5000  \n",
       "3                14.0                 NaN      1057        <5000  \n",
       "4                 NaN                 NaN      7969  5000 - 8000  "
      ]
     },
     "execution_count": 13,
     "metadata": {},
     "output_type": "execute_result"
    }
   ],
   "source": [
    "data['Purchase_Cat'] = data['Purchase'].apply(lambda x: '<5000' if x < 5000 else '5000 - 8000' if 5000 <= x < 8000 else '>=8000').astype('category')\n",
    "data.head()"
   ]
  },
  {
   "cell_type": "markdown",
   "id": "b30fbf8e",
   "metadata": {},
   "source": [
    "**Задание 3** (1 балл)\n",
    "\n",
    "Создайте таблицу shipping:\n",
    "\n",
    "| Purchase_Cat | Shipping_Cost_Raw |   |   |   |\n",
    "|--------------|-------------------|---|---|---|\n",
    "| <5000        | 100               |   |   |   |\n",
    "| 5000 - 8000  | 50                |   |   |   |\n",
    "| >=8000       | 0                 |   |   |   |"
   ]
  },
  {
   "cell_type": "code",
   "execution_count": 14,
   "id": "d497b256",
   "metadata": {},
   "outputs": [
    {
     "data": {
      "text/html": [
       "<div>\n",
       "<style scoped>\n",
       "    .dataframe tbody tr th:only-of-type {\n",
       "        vertical-align: middle;\n",
       "    }\n",
       "\n",
       "    .dataframe tbody tr th {\n",
       "        vertical-align: top;\n",
       "    }\n",
       "\n",
       "    .dataframe thead th {\n",
       "        text-align: right;\n",
       "    }\n",
       "</style>\n",
       "<table border=\"1\" class=\"dataframe\">\n",
       "  <thead>\n",
       "    <tr style=\"text-align: right;\">\n",
       "      <th></th>\n",
       "      <th>Purchase_Cat</th>\n",
       "      <th>Shipping_Cost_Raw</th>\n",
       "    </tr>\n",
       "  </thead>\n",
       "  <tbody>\n",
       "    <tr>\n",
       "      <th>0</th>\n",
       "      <td>&lt;5000</td>\n",
       "      <td>100</td>\n",
       "    </tr>\n",
       "    <tr>\n",
       "      <th>1</th>\n",
       "      <td>5000 - 8000</td>\n",
       "      <td>50</td>\n",
       "    </tr>\n",
       "    <tr>\n",
       "      <th>2</th>\n",
       "      <td>&gt;=8000</td>\n",
       "      <td>0</td>\n",
       "    </tr>\n",
       "  </tbody>\n",
       "</table>\n",
       "</div>"
      ],
      "text/plain": [
       "  Purchase_Cat  Shipping_Cost_Raw\n",
       "0        <5000                100\n",
       "1  5000 - 8000                 50\n",
       "2       >=8000                  0"
      ]
     },
     "execution_count": 14,
     "metadata": {},
     "output_type": "execute_result"
    }
   ],
   "source": [
    "shipping = pd.DataFrame([['<5000', 100], ['5000 - 8000', 50], ['>=8000', 0]], columns=['Purchase_Cat', 'Shipping_Cost_Raw'])\n",
    "shipping['Purchase_Cat'] = shipping['Purchase_Cat'].astype('category')\n",
    "shipping"
   ]
  },
  {
   "cell_type": "markdown",
   "id": "b9a262ef",
   "metadata": {},
   "source": [
    "**Задание 4** (1 балл)\n",
    "\n",
    "\n",
    "Добавьте в таблицу data колонку Shipping_Cost_Raw , используя таблицу shipping, созданную выше."
   ]
  },
  {
   "cell_type": "code",
   "execution_count": 15,
   "id": "a28e1f5d",
   "metadata": {},
   "outputs": [],
   "source": [
    "# merge"
   ]
  },
  {
   "cell_type": "code",
   "execution_count": 16,
   "id": "86c1f822",
   "metadata": {},
   "outputs": [
    {
     "data": {
      "text/html": [
       "<div>\n",
       "<style scoped>\n",
       "    .dataframe tbody tr th:only-of-type {\n",
       "        vertical-align: middle;\n",
       "    }\n",
       "\n",
       "    .dataframe tbody tr th {\n",
       "        vertical-align: top;\n",
       "    }\n",
       "\n",
       "    .dataframe thead th {\n",
       "        text-align: right;\n",
       "    }\n",
       "</style>\n",
       "<table border=\"1\" class=\"dataframe\">\n",
       "  <thead>\n",
       "    <tr style=\"text-align: right;\">\n",
       "      <th></th>\n",
       "      <th>User_ID</th>\n",
       "      <th>Product_ID</th>\n",
       "      <th>Gender</th>\n",
       "      <th>Age</th>\n",
       "      <th>Occupation</th>\n",
       "      <th>City_Category</th>\n",
       "      <th>Stay_In_Current_City_Years</th>\n",
       "      <th>Marital_Status</th>\n",
       "      <th>Product_Category_1</th>\n",
       "      <th>Product_Category_2</th>\n",
       "      <th>Product_Category_3</th>\n",
       "      <th>Purchase</th>\n",
       "      <th>Purchase_Cat</th>\n",
       "      <th>Shipping_Cost_Raw</th>\n",
       "    </tr>\n",
       "  </thead>\n",
       "  <tbody>\n",
       "    <tr>\n",
       "      <th>0</th>\n",
       "      <td>1000001</td>\n",
       "      <td>P00069042</td>\n",
       "      <td>F</td>\n",
       "      <td>0-17</td>\n",
       "      <td>10</td>\n",
       "      <td>A</td>\n",
       "      <td>2</td>\n",
       "      <td>0</td>\n",
       "      <td>3</td>\n",
       "      <td>NaN</td>\n",
       "      <td>NaN</td>\n",
       "      <td>8370</td>\n",
       "      <td>&gt;=8000</td>\n",
       "      <td>0</td>\n",
       "    </tr>\n",
       "    <tr>\n",
       "      <th>1</th>\n",
       "      <td>1000001</td>\n",
       "      <td>P00248942</td>\n",
       "      <td>F</td>\n",
       "      <td>0-17</td>\n",
       "      <td>10</td>\n",
       "      <td>A</td>\n",
       "      <td>2</td>\n",
       "      <td>0</td>\n",
       "      <td>1</td>\n",
       "      <td>6.0</td>\n",
       "      <td>14.0</td>\n",
       "      <td>15200</td>\n",
       "      <td>&gt;=8000</td>\n",
       "      <td>0</td>\n",
       "    </tr>\n",
       "    <tr>\n",
       "      <th>2</th>\n",
       "      <td>1000003</td>\n",
       "      <td>P00193542</td>\n",
       "      <td>M</td>\n",
       "      <td>26-35</td>\n",
       "      <td>15</td>\n",
       "      <td>A</td>\n",
       "      <td>3</td>\n",
       "      <td>0</td>\n",
       "      <td>1</td>\n",
       "      <td>2.0</td>\n",
       "      <td>NaN</td>\n",
       "      <td>15227</td>\n",
       "      <td>&gt;=8000</td>\n",
       "      <td>0</td>\n",
       "    </tr>\n",
       "    <tr>\n",
       "      <th>3</th>\n",
       "      <td>1000004</td>\n",
       "      <td>P00184942</td>\n",
       "      <td>M</td>\n",
       "      <td>46-50</td>\n",
       "      <td>7</td>\n",
       "      <td>B</td>\n",
       "      <td>2</td>\n",
       "      <td>1</td>\n",
       "      <td>1</td>\n",
       "      <td>8.0</td>\n",
       "      <td>17.0</td>\n",
       "      <td>19215</td>\n",
       "      <td>&gt;=8000</td>\n",
       "      <td>0</td>\n",
       "    </tr>\n",
       "    <tr>\n",
       "      <th>4</th>\n",
       "      <td>1000004</td>\n",
       "      <td>P00346142</td>\n",
       "      <td>M</td>\n",
       "      <td>46-50</td>\n",
       "      <td>7</td>\n",
       "      <td>B</td>\n",
       "      <td>2</td>\n",
       "      <td>1</td>\n",
       "      <td>1</td>\n",
       "      <td>15.0</td>\n",
       "      <td>NaN</td>\n",
       "      <td>15854</td>\n",
       "      <td>&gt;=8000</td>\n",
       "      <td>0</td>\n",
       "    </tr>\n",
       "  </tbody>\n",
       "</table>\n",
       "</div>"
      ],
      "text/plain": [
       "   User_ID Product_ID Gender    Age  Occupation City_Category  \\\n",
       "0  1000001  P00069042      F   0-17          10             A   \n",
       "1  1000001  P00248942      F   0-17          10             A   \n",
       "2  1000003  P00193542      M  26-35          15             A   \n",
       "3  1000004  P00184942      M  46-50           7             B   \n",
       "4  1000004  P00346142      M  46-50           7             B   \n",
       "\n",
       "  Stay_In_Current_City_Years  Marital_Status  Product_Category_1  \\\n",
       "0                          2               0                   3   \n",
       "1                          2               0                   1   \n",
       "2                          3               0                   1   \n",
       "3                          2               1                   1   \n",
       "4                          2               1                   1   \n",
       "\n",
       "   Product_Category_2  Product_Category_3  Purchase Purchase_Cat  \\\n",
       "0                 NaN                 NaN      8370       >=8000   \n",
       "1                 6.0                14.0     15200       >=8000   \n",
       "2                 2.0                 NaN     15227       >=8000   \n",
       "3                 8.0                17.0     19215       >=8000   \n",
       "4                15.0                 NaN     15854       >=8000   \n",
       "\n",
       "   Shipping_Cost_Raw  \n",
       "0                  0  \n",
       "1                  0  \n",
       "2                  0  \n",
       "3                  0  \n",
       "4                  0  "
      ]
     },
     "execution_count": 16,
     "metadata": {},
     "output_type": "execute_result"
    }
   ],
   "source": [
    "data = data.merge(shipping, on=['Purchase_Cat'], how='inner')\n",
    "data.head()"
   ]
  },
  {
   "cell_type": "markdown",
   "id": "b388ade0",
   "metadata": {},
   "source": [
    "**Задание 5** (2 балла)\n",
    "\n",
    "Добавьте в таблицу data колонку Shipping_Cost, значения для которой определяются следующей формулой:\n",
    "\n",
    "Shipping_cost = Shipping_Cost_raw * Cost_Coeff\n",
    "\n",
    "Значения Cost_Coeff, определяются в соответствии с колонкой City_Category:\n",
    "\n",
    "| City_Category | Cost_Coeff |   |   |   |\n",
    "|---------------|------------|---|---|---|\n",
    "| A             | 1          |   |   |   |\n",
    "| B             | 1.2        |   |   |   |\n",
    "| C             | 1.4        |   |   |   |"
   ]
  },
  {
   "cell_type": "code",
   "execution_count": 17,
   "id": "ddb895f0",
   "metadata": {},
   "outputs": [
    {
     "data": {
      "text/html": [
       "<div>\n",
       "<style scoped>\n",
       "    .dataframe tbody tr th:only-of-type {\n",
       "        vertical-align: middle;\n",
       "    }\n",
       "\n",
       "    .dataframe tbody tr th {\n",
       "        vertical-align: top;\n",
       "    }\n",
       "\n",
       "    .dataframe thead th {\n",
       "        text-align: right;\n",
       "    }\n",
       "</style>\n",
       "<table border=\"1\" class=\"dataframe\">\n",
       "  <thead>\n",
       "    <tr style=\"text-align: right;\">\n",
       "      <th></th>\n",
       "      <th>User_ID</th>\n",
       "      <th>Product_ID</th>\n",
       "      <th>Gender</th>\n",
       "      <th>Age</th>\n",
       "      <th>Occupation</th>\n",
       "      <th>City_Category</th>\n",
       "      <th>Stay_In_Current_City_Years</th>\n",
       "      <th>Marital_Status</th>\n",
       "      <th>Product_Category_1</th>\n",
       "      <th>Product_Category_2</th>\n",
       "      <th>Product_Category_3</th>\n",
       "      <th>Purchase</th>\n",
       "      <th>Purchase_Cat</th>\n",
       "      <th>Shipping_Cost_Raw</th>\n",
       "      <th>Cost_Coeff</th>\n",
       "    </tr>\n",
       "  </thead>\n",
       "  <tbody>\n",
       "    <tr>\n",
       "      <th>0</th>\n",
       "      <td>1000001</td>\n",
       "      <td>P00069042</td>\n",
       "      <td>F</td>\n",
       "      <td>0-17</td>\n",
       "      <td>10</td>\n",
       "      <td>A</td>\n",
       "      <td>2</td>\n",
       "      <td>0</td>\n",
       "      <td>3</td>\n",
       "      <td>NaN</td>\n",
       "      <td>NaN</td>\n",
       "      <td>8370</td>\n",
       "      <td>&gt;=8000</td>\n",
       "      <td>0</td>\n",
       "      <td>1.0</td>\n",
       "    </tr>\n",
       "    <tr>\n",
       "      <th>1</th>\n",
       "      <td>1000001</td>\n",
       "      <td>P00248942</td>\n",
       "      <td>F</td>\n",
       "      <td>0-17</td>\n",
       "      <td>10</td>\n",
       "      <td>A</td>\n",
       "      <td>2</td>\n",
       "      <td>0</td>\n",
       "      <td>1</td>\n",
       "      <td>6.0</td>\n",
       "      <td>14.0</td>\n",
       "      <td>15200</td>\n",
       "      <td>&gt;=8000</td>\n",
       "      <td>0</td>\n",
       "      <td>1.0</td>\n",
       "    </tr>\n",
       "    <tr>\n",
       "      <th>2</th>\n",
       "      <td>1000003</td>\n",
       "      <td>P00193542</td>\n",
       "      <td>M</td>\n",
       "      <td>26-35</td>\n",
       "      <td>15</td>\n",
       "      <td>A</td>\n",
       "      <td>3</td>\n",
       "      <td>0</td>\n",
       "      <td>1</td>\n",
       "      <td>2.0</td>\n",
       "      <td>NaN</td>\n",
       "      <td>15227</td>\n",
       "      <td>&gt;=8000</td>\n",
       "      <td>0</td>\n",
       "      <td>1.0</td>\n",
       "    </tr>\n",
       "    <tr>\n",
       "      <th>3</th>\n",
       "      <td>1000004</td>\n",
       "      <td>P00184942</td>\n",
       "      <td>M</td>\n",
       "      <td>46-50</td>\n",
       "      <td>7</td>\n",
       "      <td>B</td>\n",
       "      <td>2</td>\n",
       "      <td>1</td>\n",
       "      <td>1</td>\n",
       "      <td>8.0</td>\n",
       "      <td>17.0</td>\n",
       "      <td>19215</td>\n",
       "      <td>&gt;=8000</td>\n",
       "      <td>0</td>\n",
       "      <td>1.2</td>\n",
       "    </tr>\n",
       "    <tr>\n",
       "      <th>4</th>\n",
       "      <td>1000004</td>\n",
       "      <td>P00346142</td>\n",
       "      <td>M</td>\n",
       "      <td>46-50</td>\n",
       "      <td>7</td>\n",
       "      <td>B</td>\n",
       "      <td>2</td>\n",
       "      <td>1</td>\n",
       "      <td>1</td>\n",
       "      <td>15.0</td>\n",
       "      <td>NaN</td>\n",
       "      <td>15854</td>\n",
       "      <td>&gt;=8000</td>\n",
       "      <td>0</td>\n",
       "      <td>1.2</td>\n",
       "    </tr>\n",
       "  </tbody>\n",
       "</table>\n",
       "</div>"
      ],
      "text/plain": [
       "   User_ID Product_ID Gender    Age  Occupation City_Category  \\\n",
       "0  1000001  P00069042      F   0-17          10             A   \n",
       "1  1000001  P00248942      F   0-17          10             A   \n",
       "2  1000003  P00193542      M  26-35          15             A   \n",
       "3  1000004  P00184942      M  46-50           7             B   \n",
       "4  1000004  P00346142      M  46-50           7             B   \n",
       "\n",
       "  Stay_In_Current_City_Years  Marital_Status  Product_Category_1  \\\n",
       "0                          2               0                   3   \n",
       "1                          2               0                   1   \n",
       "2                          3               0                   1   \n",
       "3                          2               1                   1   \n",
       "4                          2               1                   1   \n",
       "\n",
       "   Product_Category_2  Product_Category_3  Purchase Purchase_Cat  \\\n",
       "0                 NaN                 NaN      8370       >=8000   \n",
       "1                 6.0                14.0     15200       >=8000   \n",
       "2                 2.0                 NaN     15227       >=8000   \n",
       "3                 8.0                17.0     19215       >=8000   \n",
       "4                15.0                 NaN     15854       >=8000   \n",
       "\n",
       "   Shipping_Cost_Raw  Cost_Coeff  \n",
       "0                  0         1.0  \n",
       "1                  0         1.0  \n",
       "2                  0         1.0  \n",
       "3                  0         1.2  \n",
       "4                  0         1.2  "
      ]
     },
     "execution_count": 17,
     "metadata": {},
     "output_type": "execute_result"
    }
   ],
   "source": [
    "data['Cost_Coeff'] = data['City_Category'].apply(lambda x: 1 if x == 'A' else 1.2 if x == 'B' else 1.4)\n",
    "data.head()"
   ]
  },
  {
   "cell_type": "code",
   "execution_count": 18,
   "id": "944242e2",
   "metadata": {},
   "outputs": [
    {
     "data": {
      "text/html": [
       "<div>\n",
       "<style scoped>\n",
       "    .dataframe tbody tr th:only-of-type {\n",
       "        vertical-align: middle;\n",
       "    }\n",
       "\n",
       "    .dataframe tbody tr th {\n",
       "        vertical-align: top;\n",
       "    }\n",
       "\n",
       "    .dataframe thead th {\n",
       "        text-align: right;\n",
       "    }\n",
       "</style>\n",
       "<table border=\"1\" class=\"dataframe\">\n",
       "  <thead>\n",
       "    <tr style=\"text-align: right;\">\n",
       "      <th></th>\n",
       "      <th>User_ID</th>\n",
       "      <th>Product_ID</th>\n",
       "      <th>Gender</th>\n",
       "      <th>Age</th>\n",
       "      <th>Occupation</th>\n",
       "      <th>City_Category</th>\n",
       "      <th>Stay_In_Current_City_Years</th>\n",
       "      <th>Marital_Status</th>\n",
       "      <th>Product_Category_1</th>\n",
       "      <th>Product_Category_2</th>\n",
       "      <th>Product_Category_3</th>\n",
       "      <th>Purchase</th>\n",
       "      <th>Purchase_Cat</th>\n",
       "      <th>Shipping_Cost_Raw</th>\n",
       "      <th>Cost_Coeff</th>\n",
       "      <th>Shipping_cost</th>\n",
       "    </tr>\n",
       "  </thead>\n",
       "  <tbody>\n",
       "    <tr>\n",
       "      <th>0</th>\n",
       "      <td>1000001</td>\n",
       "      <td>P00069042</td>\n",
       "      <td>F</td>\n",
       "      <td>0-17</td>\n",
       "      <td>10</td>\n",
       "      <td>A</td>\n",
       "      <td>2</td>\n",
       "      <td>0</td>\n",
       "      <td>3</td>\n",
       "      <td>NaN</td>\n",
       "      <td>NaN</td>\n",
       "      <td>8370</td>\n",
       "      <td>&gt;=8000</td>\n",
       "      <td>0</td>\n",
       "      <td>1.0</td>\n",
       "      <td>0.0</td>\n",
       "    </tr>\n",
       "    <tr>\n",
       "      <th>1</th>\n",
       "      <td>1000001</td>\n",
       "      <td>P00248942</td>\n",
       "      <td>F</td>\n",
       "      <td>0-17</td>\n",
       "      <td>10</td>\n",
       "      <td>A</td>\n",
       "      <td>2</td>\n",
       "      <td>0</td>\n",
       "      <td>1</td>\n",
       "      <td>6.0</td>\n",
       "      <td>14.0</td>\n",
       "      <td>15200</td>\n",
       "      <td>&gt;=8000</td>\n",
       "      <td>0</td>\n",
       "      <td>1.0</td>\n",
       "      <td>0.0</td>\n",
       "    </tr>\n",
       "    <tr>\n",
       "      <th>2</th>\n",
       "      <td>1000003</td>\n",
       "      <td>P00193542</td>\n",
       "      <td>M</td>\n",
       "      <td>26-35</td>\n",
       "      <td>15</td>\n",
       "      <td>A</td>\n",
       "      <td>3</td>\n",
       "      <td>0</td>\n",
       "      <td>1</td>\n",
       "      <td>2.0</td>\n",
       "      <td>NaN</td>\n",
       "      <td>15227</td>\n",
       "      <td>&gt;=8000</td>\n",
       "      <td>0</td>\n",
       "      <td>1.0</td>\n",
       "      <td>0.0</td>\n",
       "    </tr>\n",
       "    <tr>\n",
       "      <th>3</th>\n",
       "      <td>1000004</td>\n",
       "      <td>P00184942</td>\n",
       "      <td>M</td>\n",
       "      <td>46-50</td>\n",
       "      <td>7</td>\n",
       "      <td>B</td>\n",
       "      <td>2</td>\n",
       "      <td>1</td>\n",
       "      <td>1</td>\n",
       "      <td>8.0</td>\n",
       "      <td>17.0</td>\n",
       "      <td>19215</td>\n",
       "      <td>&gt;=8000</td>\n",
       "      <td>0</td>\n",
       "      <td>1.2</td>\n",
       "      <td>0.0</td>\n",
       "    </tr>\n",
       "    <tr>\n",
       "      <th>4</th>\n",
       "      <td>1000004</td>\n",
       "      <td>P00346142</td>\n",
       "      <td>M</td>\n",
       "      <td>46-50</td>\n",
       "      <td>7</td>\n",
       "      <td>B</td>\n",
       "      <td>2</td>\n",
       "      <td>1</td>\n",
       "      <td>1</td>\n",
       "      <td>15.0</td>\n",
       "      <td>NaN</td>\n",
       "      <td>15854</td>\n",
       "      <td>&gt;=8000</td>\n",
       "      <td>0</td>\n",
       "      <td>1.2</td>\n",
       "      <td>0.0</td>\n",
       "    </tr>\n",
       "  </tbody>\n",
       "</table>\n",
       "</div>"
      ],
      "text/plain": [
       "   User_ID Product_ID Gender    Age  Occupation City_Category  \\\n",
       "0  1000001  P00069042      F   0-17          10             A   \n",
       "1  1000001  P00248942      F   0-17          10             A   \n",
       "2  1000003  P00193542      M  26-35          15             A   \n",
       "3  1000004  P00184942      M  46-50           7             B   \n",
       "4  1000004  P00346142      M  46-50           7             B   \n",
       "\n",
       "  Stay_In_Current_City_Years  Marital_Status  Product_Category_1  \\\n",
       "0                          2               0                   3   \n",
       "1                          2               0                   1   \n",
       "2                          3               0                   1   \n",
       "3                          2               1                   1   \n",
       "4                          2               1                   1   \n",
       "\n",
       "   Product_Category_2  Product_Category_3  Purchase Purchase_Cat  \\\n",
       "0                 NaN                 NaN      8370       >=8000   \n",
       "1                 6.0                14.0     15200       >=8000   \n",
       "2                 2.0                 NaN     15227       >=8000   \n",
       "3                 8.0                17.0     19215       >=8000   \n",
       "4                15.0                 NaN     15854       >=8000   \n",
       "\n",
       "   Shipping_Cost_Raw  Cost_Coeff  Shipping_cost  \n",
       "0                  0         1.0            0.0  \n",
       "1                  0         1.0            0.0  \n",
       "2                  0         1.0            0.0  \n",
       "3                  0         1.2            0.0  \n",
       "4                  0         1.2            0.0  "
      ]
     },
     "execution_count": 18,
     "metadata": {},
     "output_type": "execute_result"
    }
   ],
   "source": [
    "data['Shipping_cost'] = data['Shipping_Cost_Raw'] * data['Cost_Coeff']\n",
    "data.head()"
   ]
  },
  {
   "cell_type": "markdown",
   "id": "3b61aa3d",
   "metadata": {},
   "source": [
    "**Задание 6** (1 балл)\n",
    "\n",
    "Чему равна сумма доставки (колонка Shipping_Cost) для всех покупателей?"
   ]
  },
  {
   "cell_type": "code",
   "execution_count": 19,
   "id": "e70aeb8e",
   "metadata": {},
   "outputs": [
    {
     "data": {
      "text/plain": [
       "21768760.0"
      ]
     },
     "execution_count": 19,
     "metadata": {},
     "output_type": "execute_result"
    }
   ],
   "source": [
    "data['Shipping_cost'].sum()"
   ]
  },
  {
   "cell_type": "markdown",
   "id": "41fc01a8",
   "metadata": {},
   "source": [
    "**Задание 7** (3 балла)\n",
    "\n",
    "Из таблицы data создайте новую таблицу со статистикой по колонке Age. В этой таблице для каждого уникального значения Age должны быть:\n",
    "\n",
    "* число покупателей (количество уникальных значений по полю User_ID), \n",
    "* средняя стоимость покупки (среднее по полю Purchase), \n",
    "* максимальная сумма покупки (максимальное значение поля Purchase), \n",
    "* минимальная сумма покупки (минимальное значение поля Purchase),\n",
    "* средняя стоимость доставки (среднее значение поля Shipping_Cost).\n"
   ]
  },
  {
   "cell_type": "code",
   "execution_count": 20,
   "id": "145324f7",
   "metadata": {},
   "outputs": [],
   "source": [
    "# groupby \n",
    "# agg"
   ]
  },
  {
   "cell_type": "code",
   "execution_count": 21,
   "id": "d5cbb19d",
   "metadata": {},
   "outputs": [
    {
     "data": {
      "text/html": [
       "<div>\n",
       "<style scoped>\n",
       "    .dataframe tbody tr th:only-of-type {\n",
       "        vertical-align: middle;\n",
       "    }\n",
       "\n",
       "    .dataframe tbody tr th {\n",
       "        vertical-align: top;\n",
       "    }\n",
       "\n",
       "    .dataframe thead tr th {\n",
       "        text-align: left;\n",
       "    }\n",
       "\n",
       "    .dataframe thead tr:last-of-type th {\n",
       "        text-align: right;\n",
       "    }\n",
       "</style>\n",
       "<table border=\"1\" class=\"dataframe\">\n",
       "  <thead>\n",
       "    <tr>\n",
       "      <th></th>\n",
       "      <th>User_ID</th>\n",
       "      <th colspan=\"3\" halign=\"left\">Purchase</th>\n",
       "      <th>Shipping_cost</th>\n",
       "    </tr>\n",
       "    <tr>\n",
       "      <th></th>\n",
       "      <th>nunique</th>\n",
       "      <th>mean</th>\n",
       "      <th>max</th>\n",
       "      <th>min</th>\n",
       "      <th>mean</th>\n",
       "    </tr>\n",
       "    <tr>\n",
       "      <th>Age</th>\n",
       "      <th></th>\n",
       "      <th></th>\n",
       "      <th></th>\n",
       "      <th></th>\n",
       "      <th></th>\n",
       "    </tr>\n",
       "  </thead>\n",
       "  <tbody>\n",
       "    <tr>\n",
       "      <th>0-17</th>\n",
       "      <td>218</td>\n",
       "      <td>8933.464640</td>\n",
       "      <td>23955</td>\n",
       "      <td>12</td>\n",
       "      <td>44.807310</td>\n",
       "    </tr>\n",
       "    <tr>\n",
       "      <th>18-25</th>\n",
       "      <td>1069</td>\n",
       "      <td>9169.663606</td>\n",
       "      <td>23958</td>\n",
       "      <td>12</td>\n",
       "      <td>40.581979</td>\n",
       "    </tr>\n",
       "    <tr>\n",
       "      <th>26-35</th>\n",
       "      <td>2053</td>\n",
       "      <td>9252.690633</td>\n",
       "      <td>23961</td>\n",
       "      <td>12</td>\n",
       "      <td>39.109601</td>\n",
       "    </tr>\n",
       "    <tr>\n",
       "      <th>36-45</th>\n",
       "      <td>1167</td>\n",
       "      <td>9331.350695</td>\n",
       "      <td>23960</td>\n",
       "      <td>12</td>\n",
       "      <td>39.163826</td>\n",
       "    </tr>\n",
       "    <tr>\n",
       "      <th>46-50</th>\n",
       "      <td>531</td>\n",
       "      <td>9208.625697</td>\n",
       "      <td>23960</td>\n",
       "      <td>12</td>\n",
       "      <td>40.459071</td>\n",
       "    </tr>\n",
       "    <tr>\n",
       "      <th>51-55</th>\n",
       "      <td>481</td>\n",
       "      <td>9534.808031</td>\n",
       "      <td>23960</td>\n",
       "      <td>12</td>\n",
       "      <td>37.839017</td>\n",
       "    </tr>\n",
       "    <tr>\n",
       "      <th>55+</th>\n",
       "      <td>372</td>\n",
       "      <td>9336.280459</td>\n",
       "      <td>23960</td>\n",
       "      <td>12</td>\n",
       "      <td>39.310361</td>\n",
       "    </tr>\n",
       "  </tbody>\n",
       "</table>\n",
       "</div>"
      ],
      "text/plain": [
       "      User_ID     Purchase            Shipping_cost\n",
       "      nunique         mean    max min          mean\n",
       "Age                                                \n",
       "0-17      218  8933.464640  23955  12     44.807310\n",
       "18-25    1069  9169.663606  23958  12     40.581979\n",
       "26-35    2053  9252.690633  23961  12     39.109601\n",
       "36-45    1167  9331.350695  23960  12     39.163826\n",
       "46-50     531  9208.625697  23960  12     40.459071\n",
       "51-55     481  9534.808031  23960  12     37.839017\n",
       "55+       372  9336.280459  23960  12     39.310361"
      ]
     },
     "execution_count": 21,
     "metadata": {},
     "output_type": "execute_result"
    }
   ],
   "source": [
    "data_stat = data.groupby('Age').agg({'User_ID': pd.Series.nunique,'Purchase': ['mean', 'max', 'min'],'Shipping_cost': 'mean'})\n",
    "data_stat"
   ]
  },
  {
   "cell_type": "markdown",
   "id": "8722af2c",
   "metadata": {},
   "source": [
    "**Задание 8** (2 балла)\n",
    "\n",
    "1. Отсортируйте таблицу data по колонке Сity_Category(по убыванию), по колонке Shipping_Cost (по возрастанию при равенстве Сity_Category) и по колонке Purchase(по возрастанию при равенстве Shipping_Cost)\n",
    "\n",
    "2. Перезапишите индексы в порядке убывания."
   ]
  },
  {
   "cell_type": "code",
   "execution_count": 22,
   "id": "b8da37dc",
   "metadata": {},
   "outputs": [
    {
     "data": {
      "text/html": [
       "<div>\n",
       "<style scoped>\n",
       "    .dataframe tbody tr th:only-of-type {\n",
       "        vertical-align: middle;\n",
       "    }\n",
       "\n",
       "    .dataframe tbody tr th {\n",
       "        vertical-align: top;\n",
       "    }\n",
       "\n",
       "    .dataframe thead th {\n",
       "        text-align: right;\n",
       "    }\n",
       "</style>\n",
       "<table border=\"1\" class=\"dataframe\">\n",
       "  <thead>\n",
       "    <tr style=\"text-align: right;\">\n",
       "      <th></th>\n",
       "      <th>User_ID</th>\n",
       "      <th>Product_ID</th>\n",
       "      <th>Gender</th>\n",
       "      <th>Age</th>\n",
       "      <th>Occupation</th>\n",
       "      <th>City_Category</th>\n",
       "      <th>Stay_In_Current_City_Years</th>\n",
       "      <th>Marital_Status</th>\n",
       "      <th>Product_Category_1</th>\n",
       "      <th>Product_Category_2</th>\n",
       "      <th>Product_Category_3</th>\n",
       "      <th>Purchase</th>\n",
       "      <th>Purchase_Cat</th>\n",
       "      <th>Shipping_Cost_Raw</th>\n",
       "      <th>Cost_Coeff</th>\n",
       "      <th>Shipping_cost</th>\n",
       "    </tr>\n",
       "  </thead>\n",
       "  <tbody>\n",
       "    <tr>\n",
       "      <th>550067</th>\n",
       "      <td>1004180</td>\n",
       "      <td>P00276642</td>\n",
       "      <td>M</td>\n",
       "      <td>55+</td>\n",
       "      <td>13</td>\n",
       "      <td>C</td>\n",
       "      <td>1</td>\n",
       "      <td>1</td>\n",
       "      <td>8</td>\n",
       "      <td>11.0</td>\n",
       "      <td>NaN</td>\n",
       "      <td>8000</td>\n",
       "      <td>&gt;=8000</td>\n",
       "      <td>0</td>\n",
       "      <td>1.4</td>\n",
       "      <td>0.0</td>\n",
       "    </tr>\n",
       "    <tr>\n",
       "      <th>550066</th>\n",
       "      <td>1001420</td>\n",
       "      <td>P00274942</td>\n",
       "      <td>M</td>\n",
       "      <td>18-25</td>\n",
       "      <td>4</td>\n",
       "      <td>C</td>\n",
       "      <td>3</td>\n",
       "      <td>0</td>\n",
       "      <td>8</td>\n",
       "      <td>NaN</td>\n",
       "      <td>NaN</td>\n",
       "      <td>8000</td>\n",
       "      <td>&gt;=8000</td>\n",
       "      <td>0</td>\n",
       "      <td>1.4</td>\n",
       "      <td>0.0</td>\n",
       "    </tr>\n",
       "    <tr>\n",
       "      <th>550065</th>\n",
       "      <td>1001938</td>\n",
       "      <td>P00053342</td>\n",
       "      <td>F</td>\n",
       "      <td>26-35</td>\n",
       "      <td>2</td>\n",
       "      <td>C</td>\n",
       "      <td>1</td>\n",
       "      <td>1</td>\n",
       "      <td>1</td>\n",
       "      <td>2.0</td>\n",
       "      <td>4.0</td>\n",
       "      <td>8000</td>\n",
       "      <td>&gt;=8000</td>\n",
       "      <td>0</td>\n",
       "      <td>1.4</td>\n",
       "      <td>0.0</td>\n",
       "    </tr>\n",
       "    <tr>\n",
       "      <th>550064</th>\n",
       "      <td>1003407</td>\n",
       "      <td>P00317442</td>\n",
       "      <td>F</td>\n",
       "      <td>46-50</td>\n",
       "      <td>5</td>\n",
       "      <td>C</td>\n",
       "      <td>1</td>\n",
       "      <td>0</td>\n",
       "      <td>1</td>\n",
       "      <td>8.0</td>\n",
       "      <td>NaN</td>\n",
       "      <td>8000</td>\n",
       "      <td>&gt;=8000</td>\n",
       "      <td>0</td>\n",
       "      <td>1.4</td>\n",
       "      <td>0.0</td>\n",
       "    </tr>\n",
       "    <tr>\n",
       "      <th>550063</th>\n",
       "      <td>1003658</td>\n",
       "      <td>P00084842</td>\n",
       "      <td>F</td>\n",
       "      <td>26-35</td>\n",
       "      <td>7</td>\n",
       "      <td>C</td>\n",
       "      <td>4+</td>\n",
       "      <td>0</td>\n",
       "      <td>8</td>\n",
       "      <td>16.0</td>\n",
       "      <td>NaN</td>\n",
       "      <td>8000</td>\n",
       "      <td>&gt;=8000</td>\n",
       "      <td>0</td>\n",
       "      <td>1.4</td>\n",
       "      <td>0.0</td>\n",
       "    </tr>\n",
       "    <tr>\n",
       "      <th>...</th>\n",
       "      <td>...</td>\n",
       "      <td>...</td>\n",
       "      <td>...</td>\n",
       "      <td>...</td>\n",
       "      <td>...</td>\n",
       "      <td>...</td>\n",
       "      <td>...</td>\n",
       "      <td>...</td>\n",
       "      <td>...</td>\n",
       "      <td>...</td>\n",
       "      <td>...</td>\n",
       "      <td>...</td>\n",
       "      <td>...</td>\n",
       "      <td>...</td>\n",
       "      <td>...</td>\n",
       "      <td>...</td>\n",
       "    </tr>\n",
       "    <tr>\n",
       "      <th>4</th>\n",
       "      <td>1001069</td>\n",
       "      <td>P00050642</td>\n",
       "      <td>M</td>\n",
       "      <td>26-35</td>\n",
       "      <td>20</td>\n",
       "      <td>A</td>\n",
       "      <td>4+</td>\n",
       "      <td>0</td>\n",
       "      <td>15</td>\n",
       "      <td>16.0</td>\n",
       "      <td>NaN</td>\n",
       "      <td>4949</td>\n",
       "      <td>&lt;5000</td>\n",
       "      <td>100</td>\n",
       "      <td>1.0</td>\n",
       "      <td>100.0</td>\n",
       "    </tr>\n",
       "    <tr>\n",
       "      <th>3</th>\n",
       "      <td>1005686</td>\n",
       "      <td>P00314642</td>\n",
       "      <td>M</td>\n",
       "      <td>55+</td>\n",
       "      <td>16</td>\n",
       "      <td>A</td>\n",
       "      <td>1</td>\n",
       "      <td>1</td>\n",
       "      <td>15</td>\n",
       "      <td>NaN</td>\n",
       "      <td>NaN</td>\n",
       "      <td>4952</td>\n",
       "      <td>&lt;5000</td>\n",
       "      <td>100</td>\n",
       "      <td>1.0</td>\n",
       "      <td>100.0</td>\n",
       "    </tr>\n",
       "    <tr>\n",
       "      <th>2</th>\n",
       "      <td>1000620</td>\n",
       "      <td>P00312742</td>\n",
       "      <td>M</td>\n",
       "      <td>18-25</td>\n",
       "      <td>0</td>\n",
       "      <td>A</td>\n",
       "      <td>3</td>\n",
       "      <td>0</td>\n",
       "      <td>15</td>\n",
       "      <td>NaN</td>\n",
       "      <td>NaN</td>\n",
       "      <td>4966</td>\n",
       "      <td>&lt;5000</td>\n",
       "      <td>100</td>\n",
       "      <td>1.0</td>\n",
       "      <td>100.0</td>\n",
       "    </tr>\n",
       "    <tr>\n",
       "      <th>1</th>\n",
       "      <td>1000070</td>\n",
       "      <td>P00312742</td>\n",
       "      <td>M</td>\n",
       "      <td>18-25</td>\n",
       "      <td>4</td>\n",
       "      <td>A</td>\n",
       "      <td>2</td>\n",
       "      <td>0</td>\n",
       "      <td>15</td>\n",
       "      <td>NaN</td>\n",
       "      <td>NaN</td>\n",
       "      <td>4976</td>\n",
       "      <td>&lt;5000</td>\n",
       "      <td>100</td>\n",
       "      <td>1.0</td>\n",
       "      <td>100.0</td>\n",
       "    </tr>\n",
       "    <tr>\n",
       "      <th>0</th>\n",
       "      <td>1002335</td>\n",
       "      <td>P00116142</td>\n",
       "      <td>M</td>\n",
       "      <td>51-55</td>\n",
       "      <td>17</td>\n",
       "      <td>A</td>\n",
       "      <td>3</td>\n",
       "      <td>0</td>\n",
       "      <td>10</td>\n",
       "      <td>13.0</td>\n",
       "      <td>16.0</td>\n",
       "      <td>4987</td>\n",
       "      <td>&lt;5000</td>\n",
       "      <td>100</td>\n",
       "      <td>1.0</td>\n",
       "      <td>100.0</td>\n",
       "    </tr>\n",
       "  </tbody>\n",
       "</table>\n",
       "<p>550068 rows × 16 columns</p>\n",
       "</div>"
      ],
      "text/plain": [
       "        User_ID Product_ID Gender    Age  Occupation City_Category  \\\n",
       "550067  1004180  P00276642      M    55+          13             C   \n",
       "550066  1001420  P00274942      M  18-25           4             C   \n",
       "550065  1001938  P00053342      F  26-35           2             C   \n",
       "550064  1003407  P00317442      F  46-50           5             C   \n",
       "550063  1003658  P00084842      F  26-35           7             C   \n",
       "...         ...        ...    ...    ...         ...           ...   \n",
       "4       1001069  P00050642      M  26-35          20             A   \n",
       "3       1005686  P00314642      M    55+          16             A   \n",
       "2       1000620  P00312742      M  18-25           0             A   \n",
       "1       1000070  P00312742      M  18-25           4             A   \n",
       "0       1002335  P00116142      M  51-55          17             A   \n",
       "\n",
       "       Stay_In_Current_City_Years  Marital_Status  Product_Category_1  \\\n",
       "550067                          1               1                   8   \n",
       "550066                          3               0                   8   \n",
       "550065                          1               1                   1   \n",
       "550064                          1               0                   1   \n",
       "550063                         4+               0                   8   \n",
       "...                           ...             ...                 ...   \n",
       "4                              4+               0                  15   \n",
       "3                               1               1                  15   \n",
       "2                               3               0                  15   \n",
       "1                               2               0                  15   \n",
       "0                               3               0                  10   \n",
       "\n",
       "        Product_Category_2  Product_Category_3  Purchase Purchase_Cat  \\\n",
       "550067                11.0                 NaN      8000       >=8000   \n",
       "550066                 NaN                 NaN      8000       >=8000   \n",
       "550065                 2.0                 4.0      8000       >=8000   \n",
       "550064                 8.0                 NaN      8000       >=8000   \n",
       "550063                16.0                 NaN      8000       >=8000   \n",
       "...                    ...                 ...       ...          ...   \n",
       "4                     16.0                 NaN      4949        <5000   \n",
       "3                      NaN                 NaN      4952        <5000   \n",
       "2                      NaN                 NaN      4966        <5000   \n",
       "1                      NaN                 NaN      4976        <5000   \n",
       "0                     13.0                16.0      4987        <5000   \n",
       "\n",
       "        Shipping_Cost_Raw  Cost_Coeff  Shipping_cost  \n",
       "550067                  0         1.4            0.0  \n",
       "550066                  0         1.4            0.0  \n",
       "550065                  0         1.4            0.0  \n",
       "550064                  0         1.4            0.0  \n",
       "550063                  0         1.4            0.0  \n",
       "...                   ...         ...            ...  \n",
       "4                     100         1.0          100.0  \n",
       "3                     100         1.0          100.0  \n",
       "2                     100         1.0          100.0  \n",
       "1                     100         1.0          100.0  \n",
       "0                     100         1.0          100.0  \n",
       "\n",
       "[550068 rows x 16 columns]"
      ]
     },
     "execution_count": 22,
     "metadata": {},
     "output_type": "execute_result"
    }
   ],
   "source": [
    "data_sorted = data.sort_values(['City_Category', 'Shipping_cost', 'Purchase'], ascending=[False, True, True]).reset_index(drop=True)\n",
    "data_sorted.index = range(len(data_sorted)-1, -1, -1)\n",
    "data_sorted"
   ]
  },
  {
   "cell_type": "code",
   "execution_count": 23,
   "id": "738b63e7",
   "metadata": {},
   "outputs": [],
   "source": [
    "assert (data_sorted.index == range(data_sorted.shape[0]-1,-1, -1)).all()\n",
    "assert data.shape == data_sorted.shape"
   ]
  },
  {
   "cell_type": "markdown",
   "id": "37b787d7",
   "metadata": {},
   "source": [
    "# Matplotlib"
   ]
  },
  {
   "cell_type": "code",
   "execution_count": 24,
   "id": "a6395a9c",
   "metadata": {},
   "outputs": [],
   "source": [
    "import matplotlib.pyplot as plt"
   ]
  },
  {
   "cell_type": "markdown",
   "id": "31a7f7a0",
   "metadata": {},
   "source": [
    "**Задание 9** (1 балл)\n",
    "\n",
    "\n",
    "Постройте гистограммы для колонок Purchase и Shipping_Cost таблицы data"
   ]
  },
  {
   "cell_type": "code",
   "execution_count": 25,
   "id": "eb1c4d0e",
   "metadata": {},
   "outputs": [
    {
     "data": {
      "text/plain": [
       "<AxesSubplot:>"
      ]
     },
     "execution_count": 25,
     "metadata": {},
     "output_type": "execute_result"
    },
    {
     "data": {
      "image/png": "[encoded data removed]",
      "text/plain": [
       "<Figure size 640x480 with 1 Axes>"
      ]
     },
     "metadata": {},
     "output_type": "display_data"
    }
   ],
   "source": [
    "data['Purchase'].hist()"
   ]
  },
  {
   "cell_type": "code",
   "execution_count": 26,
   "id": "c373b2df",
   "metadata": {},
   "outputs": [
    {
     "data": {
      "text/plain": [
       "<AxesSubplot:>"
      ]
     },
     "execution_count": 26,
     "metadata": {},
     "output_type": "execute_result"
    },
    {
     "data": {
      "image/png": "[encoded data removed]",
      "text/plain": [
       "<Figure size 640x480 with 1 Axes>"
      ]
     },
     "metadata": {},
     "output_type": "display_data"
    }
   ],
   "source": [
    "data['Shipping_cost'].hist()"
   ]
  },
  {
   "cell_type": "markdown",
   "id": "3b9b798c",
   "metadata": {},
   "source": [
    "**Задание 10** (2 балла)\n",
    "\n",
    "Постройте круговую диаграмму (pie) распределения поля City_category. \n",
    "\n",
    "Добавьте:\n",
    "* подписи долей (labels=...), \n",
    "* процентную долю каждого класса (autopct='%1.1f%%'), \n",
    "* вырез в центре (wedgeprops=dict(width=...)),\n",
    "* отступ долей от центра (explode=[...])."
   ]
  },
  {
   "cell_type": "code",
   "execution_count": 27,
   "id": "73c90138",
   "metadata": {},
   "outputs": [
    {
     "data": {
      "image/png": "[encoded data removed]",
      "text/plain": [
       "<Figure size 640x480 with 1 Axes>"
      ]
     },
     "metadata": {},
     "output_type": "display_data"
    }
   ],
   "source": [
    "plt.pie(data['City_Category'].value_counts(), labels=['A', 'B', 'C'], autopct = '%1.1f%%', wedgeprops=dict(width=0.2, edgecolor='y'), explode=(0.05, 0.05, 0.05))\n",
    "plt.show()"
   ]
  },
  {
   "cell_type": "markdown",
   "id": "72a4c092",
   "metadata": {},
   "source": [
    "**Задание 11** (3 балла)\n",
    "\n",
    "Создайте массив x длиной 100 со значениями элементов от 0 до 10."
   ]
  },
  {
   "cell_type": "code",
   "execution_count": 28,
   "id": "5afa6e54",
   "metadata": {},
   "outputs": [],
   "source": [
    "import numpy as np"
   ]
  },
  {
   "cell_type": "code",
   "execution_count": 29,
   "id": "cc5d0261",
   "metadata": {},
   "outputs": [],
   "source": [
    "# np.linespace"
   ]
  },
  {
   "cell_type": "code",
   "execution_count": 30,
   "id": "07b5268d",
   "metadata": {},
   "outputs": [
    {
     "data": {
      "text/plain": [
       "array([ 0.        ,  0.1010101 ,  0.2020202 ,  0.3030303 ,  0.4040404 ,\n",
       "        0.50505051,  0.60606061,  0.70707071,  0.80808081,  0.90909091,\n",
       "        1.01010101,  1.11111111,  1.21212121,  1.31313131,  1.41414141,\n",
       "        1.51515152,  1.61616162,  1.71717172,  1.81818182,  1.91919192,\n",
       "        2.02020202,  2.12121212,  2.22222222,  2.32323232,  2.42424242,\n",
       "        2.52525253,  2.62626263,  2.72727273,  2.82828283,  2.92929293,\n",
       "        3.03030303,  3.13131313,  3.23232323,  3.33333333,  3.43434343,\n",
       "        3.53535354,  3.63636364,  3.73737374,  3.83838384,  3.93939394,\n",
       "        4.04040404,  4.14141414,  4.24242424,  4.34343434,  4.44444444,\n",
       "        4.54545455,  4.64646465,  4.74747475,  4.84848485,  4.94949495,\n",
       "        5.05050505,  5.15151515,  5.25252525,  5.35353535,  5.45454545,\n",
       "        5.55555556,  5.65656566,  5.75757576,  5.85858586,  5.95959596,\n",
       "        6.06060606,  6.16161616,  6.26262626,  6.36363636,  6.46464646,\n",
       "        6.56565657,  6.66666667,  6.76767677,  6.86868687,  6.96969697,\n",
       "        7.07070707,  7.17171717,  7.27272727,  7.37373737,  7.47474747,\n",
       "        7.57575758,  7.67676768,  7.77777778,  7.87878788,  7.97979798,\n",
       "        8.08080808,  8.18181818,  8.28282828,  8.38383838,  8.48484848,\n",
       "        8.58585859,  8.68686869,  8.78787879,  8.88888889,  8.98989899,\n",
       "        9.09090909,  9.19191919,  9.29292929,  9.39393939,  9.49494949,\n",
       "        9.5959596 ,  9.6969697 ,  9.7979798 ,  9.8989899 , 10.        ])"
      ]
     },
     "execution_count": 30,
     "metadata": {},
     "output_type": "execute_result"
    }
   ],
   "source": [
    "x = np.linspace(0, 10, 100)\n",
    "x"
   ]
  },
  {
   "cell_type": "markdown",
   "id": "ff4aff8c",
   "metadata": {},
   "source": [
    "Создайте матрицу $Y_{100\\times 100}$. Каждая строка = массив (длина = длина массива x) равномерно распределенных случайных величин ~$Uniform[0,1]$"
   ]
  },
  {
   "cell_type": "code",
   "execution_count": 31,
   "id": "aa1851c4",
   "metadata": {},
   "outputs": [],
   "source": [
    "# np.random.uniform(low=..., high=..., size=...)"
   ]
  },
  {
   "cell_type": "code",
   "execution_count": 32,
   "id": "2471a08e",
   "metadata": {},
   "outputs": [
    {
     "data": {
      "text/plain": [
       "array([[9.10422100e-01, 4.61829379e-01, 3.30945284e-01, ...,\n",
       "        5.75360053e-01, 7.51141944e-01, 8.02623198e-01],\n",
       "       [3.92560902e-01, 3.35916980e-01, 3.63113327e-01, ...,\n",
       "        9.69968262e-02, 2.60045826e-01, 6.33364210e-01],\n",
       "       [9.66296065e-04, 1.96077433e-01, 8.53464227e-01, ...,\n",
       "        9.08148098e-01, 8.19488409e-01, 4.82082741e-02],\n",
       "       ...,\n",
       "       [1.40391334e-01, 7.84134467e-02, 8.31371017e-01, ...,\n",
       "        5.50545883e-01, 1.69977002e-01, 4.18104005e-01],\n",
       "       [8.12207660e-02, 2.49623505e-01, 3.63837040e-01, ...,\n",
       "        3.92507923e-01, 1.57210232e-01, 8.99768356e-01],\n",
       "       [9.52939919e-01, 9.14300753e-01, 9.86842510e-01, ...,\n",
       "        8.72233487e-01, 8.76688213e-01, 5.42183249e-01]])"
      ]
     },
     "execution_count": 32,
     "metadata": {},
     "output_type": "execute_result"
    }
   ],
   "source": [
    "Y = np.random.uniform(low=0, high=1, size=(x.shape[0], x.shape[0]))\n",
    "Y"
   ]
  },
  {
   "cell_type": "markdown",
   "id": "ff2a58a2",
   "metadata": {},
   "source": [
    "1. Постройте график средних значений по столбцам матрицы $Y$.\n",
    "\n",
    "2. Также постройте график доверительного интервала средних значений в каждой точке y (уровень доверия $\\alpha$ = 0.05). $[\\bar{y} - z_{\\alpha}std(y); \\ \\bar{y} + z_{\\alpha}std(y)]$\n",
    "\n",
    "3. Закрасьте область между графиками доверительного интервала"
   ]
  },
  {
   "cell_type": "code",
   "execution_count": 33,
   "id": "b306e13f",
   "metadata": {},
   "outputs": [],
   "source": [
    "import scipy.stats\n",
    "from scipy.stats import norm"
   ]
  },
  {
   "cell_type": "code",
   "execution_count": 34,
   "id": "713a83ef",
   "metadata": {},
   "outputs": [],
   "source": [
    "# scipy.stats.norm.interval, np.mean, np.std, plt.plot(..., color=...), plt.fill_between, plt.show"
   ]
  },
  {
   "cell_type": "code",
   "execution_count": 35,
   "id": "61a646c2",
   "metadata": {},
   "outputs": [
    {
     "data": {
      "text/plain": [
       "[<matplotlib.lines.Line2D at 0x28a381713a0>]"
      ]
     },
     "execution_count": 35,
     "metadata": {},
     "output_type": "execute_result"
    },
    {
     "data": {
      "image/png": "[encoded data removed]",
      "text/plain": [
       "<Figure size 640x480 with 1 Axes>"
      ]
     },
     "metadata": {},
     "output_type": "display_data"
    }
   ],
   "source": [
    "means = np.mean(Y, axis=0)\n",
    "plt.plot(means)"
   ]
  },
  {
   "cell_type": "code",
   "execution_count": 36,
   "id": "3b675d8f",
   "metadata": {},
   "outputs": [
    {
     "data": {
      "text/plain": [
       "<matplotlib.collections.PolyCollection at 0x28a381da790>"
      ]
     },
     "execution_count": 36,
     "metadata": {},
     "output_type": "execute_result"
    },
    {
     "data": {
      "image/png": "[encoded data removed]",
      "text/plain": [
       "<Figure size 640x480 with 1 Axes>"
      ]
     },
     "metadata": {},
     "output_type": "display_data"
    }
   ],
   "source": [
    "plt.fill_between(np.arange(100), means - norm.ppf(0.05) * np.std(Y, axis=0, ddof=1), \\\n",
    "                 means + norm.ppf(0.05) * np.std(Y, axis=0, ddof=1))"
   ]
  },
  {
   "cell_type": "markdown",
   "id": "f3c54143",
   "metadata": {},
   "source": [
    "**Задание 12** (3 балла)\n",
    "\n",
    "Постройте 3 графика рядом (сгенерируйте 1000 значений и постройте гистограмму распределения):\n",
    "\n",
    "1. Нормальное распределение $N(0,1)$\n",
    "\n",
    "2. Равномерное распределение $U(0,1)$\n",
    "\n",
    "3. Экспоненциальное $Exp(1)$\n",
    "\n",
    "Гистограммы должны быть нормированы. Все оси подписаны. Все графики имеют title."
   ]
  },
  {
   "cell_type": "code",
   "execution_count": 37,
   "id": "09c38f96",
   "metadata": {},
   "outputs": [],
   "source": [
    "# np.random, plt.subplots"
   ]
  },
  {
   "cell_type": "code",
   "execution_count": 38,
   "id": "c4038fe4",
   "metadata": {},
   "outputs": [
    {
     "data": {
      "image/png": "[encoded data removed]",
      "text/plain": [
       "<Figure size 1500x500 with 3 Axes>"
      ]
     },
     "metadata": {},
     "output_type": "display_data"
    }
   ],
   "source": [
    "fig, (ax1, ax2, ax3) = plt.subplots(1, 3, figsize=(15, 5))\n",
    "\n",
    "ax1.hist(np.random.randn(1000), bins=30, density=True)\n",
    "ax1.set_title(\"Нормальное распределение\")\n",
    "ax1.set_xlabel(\"Значения\")\n",
    "ax1.set_ylabel(\"Плотность вероятности\")\n",
    "\n",
    "ax2.hist(np.random.rand(1000), bins=30, density=True)\n",
    "ax2.set_title(\"Равномерное распределение\")\n",
    "ax2.set_xlabel(\"Значения\")\n",
    "ax2.set_ylabel(\"Плотность вероятности\")\n",
    "\n",
    "ax3.hist(np.random.exponential(scale=1, size=1000), bins=30, density=True)\n",
    "ax3.set_title(\"Экспоненциальное распределение\")\n",
    "ax3.set_xlabel(\"Значения\")\n",
    "ax3.set_ylabel(\"Плотность вероятности\")\n",
    "\n",
    "plt.show()"
   ]
  }
 ],
 "metadata": {
  "anaconda-cloud": {},
  "kernelspec": {
   "display_name": "Python 3 (ipykernel)",
   "language": "python",
   "name": "python3"
  },
  "language_info": {
   "codemirror_mode": {
    "name": "ipython",
    "version": 3
   },
   "file_extension": ".py",
   "mimetype": "text/x-python",
   "name": "python",
   "nbconvert_exporter": "python",
   "pygments_lexer": "ipython3",
   "version": "3.9.13"
  }
 },
 "nbformat": 4,
 "nbformat_minor": 5
}
