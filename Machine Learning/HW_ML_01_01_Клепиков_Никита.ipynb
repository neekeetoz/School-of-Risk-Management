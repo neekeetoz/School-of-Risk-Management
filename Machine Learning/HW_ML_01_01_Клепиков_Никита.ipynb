{
 "cells": [
  {
   "cell_type": "code",
   "execution_count": 1,
   "id": "bdc8b6a8",
   "metadata": {},
   "outputs": [],
   "source": [
    "import numpy as np"
   ]
  },
  {
   "cell_type": "markdown",
   "id": "9af80b0d",
   "metadata": {},
   "source": [
    "# Разминка"
   ]
  },
  {
   "cell_type": "markdown",
   "id": "b197ce96",
   "metadata": {},
   "source": [
    "**Используйте базовые возможности, встроенные в Python.**"
   ]
  },
  {
   "cell_type": "markdown",
   "id": "39793185",
   "metadata": {},
   "source": [
    "**Задание 1** (1 балл)\n",
    "\n",
    "Напишите функцию, находящую возведение в степень b числа a без использования оператора ** и встроенных функций. Параметр b целочисленный."
   ]
  },
  {
   "cell_type": "code",
   "execution_count": 2,
   "id": "33116d0e",
   "metadata": {},
   "outputs": [],
   "source": [
    "def pow_func(a, b):\n",
    "     return 1 if b == 0 else 1/(a * pow_func(a, -b - 1)) if b < 0 else a * pow_func(a, b - 1)"
   ]
  },
  {
   "cell_type": "code",
   "execution_count": 3,
   "id": "423bde54",
   "metadata": {},
   "outputs": [],
   "source": [
    "a = 2\n",
    "b = -4\n",
    "\n",
    "assert pow_func(a, b) == a ** b\n",
    "assert pow_func(b, a) == b ** a"
   ]
  },
  {
   "cell_type": "markdown",
   "id": "df99edb2",
   "metadata": {},
   "source": [
    "**Задание 2** (решение в одну строчку* 2 балла, остальное 1 балл)\n",
    "\n",
    "\n",
    "Напишите функцию, которая все элементы массива x с четными индексами переставит в обратном порядке.\n",
    "\n",
    "*Подсказка: попробуйте использовать list comprehensions"
   ]
  },
  {
   "cell_type": "code",
   "execution_count": 4,
   "id": "eebbb190",
   "metadata": {
    "scrolled": false
   },
   "outputs": [],
   "source": [
    "def reverse(x):\n",
    "    return [x[i] if i % 2 != 0 else x[::-1][i+1] if len(x)%2==0 else x[::-1][i] for i in range(len(x))]"
   ]
  },
  {
   "cell_type": "code",
   "execution_count": 5,
   "id": "a1273ede",
   "metadata": {},
   "outputs": [],
   "source": [
    "x1 = [0, 1, 2, 3, 4, 5, 6, 7, 8, 9]\n",
    "x2 = [0, 1, 2, 3, 4, 5, 6, 7, 8, 9, 10]\n",
    "assert reverse(x1) ==  [8, 1, 6, 3, 4, 5, 2, 7, 0, 9]\n",
    "assert reverse(x2) ==  [10, 1, 8, 3, 6, 5, 4, 7, 2, 9, 0]"
   ]
  },
  {
   "cell_type": "markdown",
   "id": "6c017d82",
   "metadata": {},
   "source": [
    "**Задание 3** (2 балла)\n",
    "\n",
    "\n",
    "Напишите цикл, который выводит все знаки препинания и четные числа, делящиеся на 2, из строки s.\n",
    "\n",
    "Подсказка: используйте преобразование типов."
   ]
  },
  {
   "cell_type": "code",
   "execution_count": 6,
   "id": "3084ec66",
   "metadata": {},
   "outputs": [
    {
     "data": {
      "text/plain": [
       "Ellipsis"
      ]
     },
     "execution_count": 6,
     "metadata": {},
     "output_type": "execute_result"
    }
   ],
   "source": [
    "s = \"\"\"\n",
    "ОДНА прекрасная принцесса\n",
    "Смотрела вдаль без интереса.\n",
    "\n",
    "Вдруг увидала 2-х коней.\n",
    "2 принца скачут прямо к ней.\n",
    "\n",
    "Навстречу вышел 3-х головый\n",
    "Дракон, свирепый и здоровый.\n",
    "\n",
    "А принцы – драться, сгоряча\n",
    "4 выхватив меча.\n",
    "\n",
    "Но и дракон силен, злодей!\n",
    "На каждой лапе – 5 когтей!\n",
    "\n",
    "Принцесса смотрит, вся дрожа,\n",
    "На бой с 6-го этажа.\n",
    "\n",
    "7 долгих дней и 7 ночей\n",
    "Был слышен рев и лязг мечей.\n",
    "\n",
    "И кони не стоят на месте,\n",
    "С хозяевами бьются вместе.\n",
    "Врага лягают будь здоров\n",
    "Все 8 кованых подков.\n",
    "\n",
    "Дракон от натиска такого\n",
    "Устал кружиться бестолково\n",
    "И 9 раз сказал: «Отбой!»\n",
    "Три раза каждой головой.\n",
    "\n",
    "Сказал и скрылся в чаще леса.\n",
    "Спустилась с башни вниз принцесса,\n",
    "К прекрасным принцам подбежала\n",
    "И руки 10 раз пожала!\n",
    "Они смогли ее спасти!\n",
    "\n",
    "Ты сосчитал до десяти?\n",
    "\"\"\"\n",
    "\n",
    "..."
   ]
  },
  {
   "cell_type": "code",
   "execution_count": 7,
   "id": "dd090e13",
   "metadata": {
    "scrolled": true
   },
   "outputs": [
    {
     "name": "stdout",
     "output_type": "stream",
     "text": [
      ". 2 - . 2 . - , . , 4 . , ! ! , , 6 - . . , . 8 . ! . . , 0 ! ! ?\n"
     ]
    }
   ],
   "source": [
    "print(' '.join([i for i in s if i in \",.?!-\" or (i.isdigit() and int(i) % 2 == 0)]))"
   ]
  },
  {
   "cell_type": "markdown",
   "id": "0dc90386",
   "metadata": {},
   "source": [
    "**Задание 4** (решение в одну строчку* 2 балла, остальное 1 балл)\n",
    "\n",
    "Напишите функцию, которая по данной последовательности $\\{A_i\\}_{i=1}^n$ строит последовательность $S_n$, где $S_k = \\frac{A_1 + ... + A_k}{k}$. \n",
    "\n",
    "*Подсказка: попробуйте использовать list comprehentions и slices. Также можно использовать функции из numpy"
   ]
  },
  {
   "cell_type": "code",
   "execution_count": 8,
   "id": "c5a1dc57",
   "metadata": {},
   "outputs": [],
   "source": [
    "def build_seq(A):\n",
    "    return [(sum(A[:i+1]))/(i+1) for i in range(len(A))]"
   ]
  },
  {
   "cell_type": "code",
   "execution_count": 9,
   "id": "bde6e935",
   "metadata": {},
   "outputs": [],
   "source": [
    "A = [0.29710545, 0.4459568 , 0.61701437, 0.08954347, 0.93627464,\n",
    "       0.50553331, 0.41364757, 0.89464955, 0.21498457, 0.46527083]\n",
    "assert (np.array(build_seq(A)).round(8) == [0.29710545, 0.37153112, 0.45335887, 0.36240502, 0.47717895, 0.48190467, 0.47215366, 0.52496564, 0.4905233 , 0.48799806]).all()"
   ]
  },
  {
   "cell_type": "markdown",
   "id": "3c6123d7",
   "metadata": {},
   "source": [
    "# Numpy"
   ]
  },
  {
   "cell_type": "markdown",
   "id": "6c51d774",
   "metadata": {},
   "source": [
    "**Задание 5** (1 балл)\n",
    "\n",
    "Реализуйте функцию, которая принимает массив (np.array) и константу, и возвращает все элементы массива, которые больше данной константы"
   ]
  },
  {
   "cell_type": "code",
   "execution_count": 10,
   "id": "9b298445",
   "metadata": {},
   "outputs": [],
   "source": [
    "def array_const(ar, C):\n",
    "    return ar[(ar > C)]"
   ]
  },
  {
   "cell_type": "code",
   "execution_count": 11,
   "id": "f6f46063",
   "metadata": {},
   "outputs": [],
   "source": [
    "assert (array_const(np.array([1,2,3,4,5,6,7,6,5,4,3,2,1]), 3) == np.array([4,5,6,7,6,5,4])).all()\n",
    "assert (array_const(np.array([1,0,1,1,1,0,1]), 0) == np.array([1,1,1,1,1])).all()"
   ]
  },
  {
   "cell_type": "markdown",
   "id": "dbd5fa20",
   "metadata": {},
   "source": [
    "**Задание 6** (1 балл)\n",
    "\n",
    "Реализуйте функцию, принимающую на вход матрицу X и два массива i и j одинаковой длины. Функция должна возвращать [X[i[0], j[0]], X[i[1], j[1]], ..., X[i[N-1], j[N-1]]] ."
   ]
  },
  {
   "cell_type": "code",
   "execution_count": 12,
   "id": "c7919c2e",
   "metadata": {},
   "outputs": [],
   "source": [
    "def array_i_j(X, i, j):\n",
    "    a = []\n",
    "    for k in range(len(i)):\n",
    "        a.append(X[i[k], j[k]])\n",
    "    return a"
   ]
  },
  {
   "cell_type": "code",
   "execution_count": 13,
   "id": "dd21714b",
   "metadata": {},
   "outputs": [],
   "source": [
    "assert (array_i_j(np.array([[1,2,3,4],[5,6,7,8],[9,10,11,12]]),\n",
    "                  np.array([2,0,1]),\n",
    "                  np.array([2,2,0])) == np.array([11, 3, 5])).all()\n",
    "assert (array_i_j(np.array([[1,2,3,4,1,4]]),\n",
    "                  np.array([0,0,0]),\n",
    "                  np.array([2,2,2])) == np.array([3, 3, 3])).all()"
   ]
  },
  {
   "cell_type": "markdown",
   "id": "37ed99db",
   "metadata": {},
   "source": [
    "**Задание 7** (2 балла)\n",
    "\n",
    "Реализуйте функцию для подсчёта произведения неотрицательных и ненулевых элементов на диагонали матрицы. Если $\\forall i \\ X_{i,i} <= 0,\\$ то верните None"
   ]
  },
  {
   "cell_type": "code",
   "execution_count": 14,
   "id": "cf622a60",
   "metadata": {},
   "outputs": [],
   "source": [
    "# Используйте np.diagonal, np.prod"
   ]
  },
  {
   "cell_type": "code",
   "execution_count": 15,
   "id": "3e79a2de",
   "metadata": {},
   "outputs": [],
   "source": [
    "def non_less_zero_diag_prod(X):\n",
    "    return None if np.prod(np.diagonal(X)[(np.diagonal(X) > 0)]) == 1 else np.prod(np.diagonal(X)[(np.diagonal(X) > 0)])"
   ]
  },
  {
   "cell_type": "code",
   "execution_count": 16,
   "id": "e5bb9785",
   "metadata": {},
   "outputs": [],
   "source": [
    "assert non_less_zero_diag_prod(np.array([[10,2,3,4],[5,0,7,8],[9,10,11,12]])) == 110\n",
    "assert non_less_zero_diag_prod(np.array([[10,2,3,4],[5,6,7,8],[9,10,-11,12]])) == 60\n",
    "assert non_less_zero_diag_prod(np.array([[0,1,2], [1,0,2], [1,2,0]])) == None\n",
    "assert non_less_zero_diag_prod(np.array([[-3,1,2], [1,-9,2], [1,2,-1]])) == None"
   ]
  },
  {
   "cell_type": "markdown",
   "id": "e654cca0",
   "metadata": {},
   "source": [
    "**Задание 8** (2 балла)\n",
    "\n",
    "Напишите функцию, возвращающую минимальный элемент в массиве *x* среди элементов, перед которыми стоит нулевой. Если подходящих элементов нет, функция должна возвращать *None*."
   ]
  },
  {
   "cell_type": "code",
   "execution_count": 17,
   "id": "282c2fd8",
   "metadata": {},
   "outputs": [],
   "source": [
    "# Возможно пригодится: np.where, np.append, np.delete"
   ]
  },
  {
   "cell_type": "code",
   "execution_count": 18,
   "id": "6c828e3c",
   "metadata": {},
   "outputs": [],
   "source": [
    "def min_element(arr):\n",
    "    f_zero = False\n",
    "    min_el = None\n",
    "    for i in range(len(arr)):\n",
    "        if f_zero and (min_el is None or arr[i] < min_el):\n",
    "            min_el = arr[i]\n",
    "        if arr[i] == 0:\n",
    "            f_zero = True\n",
    "        else:\n",
    "            f_zero = False\n",
    "    return min_el"
   ]
  },
  {
   "cell_type": "code",
   "execution_count": 19,
   "id": "f0bc5942",
   "metadata": {},
   "outputs": [],
   "source": [
    "assert min_element(np.array([2,0,3,0,1,0,7,8,0,10,11,0])) == 1\n",
    "assert min_element(np.array([2,0,3,0,0,0,7,8,0,10,11,0])) == 0\n",
    "assert min_element(np.array([3,4,1,0,4,5,2,5,6,6,12,12])) == 4\n",
    "assert min_element(np.array([2,0,3,0,0,0,7,8,0,-1,11,0])) == -1\n",
    "assert min_element(np.array([3,4,1,2,4,5,2,5,6,6,12,0])) == None\n",
    "assert min_element(np.array([3,4,1,2,4,5,2,5,6,6,12,12])) == None\n",
    "assert min_element(np.array([0,0,0])) == 0\n",
    "assert min_element(np.array([0])) == None"
   ]
  },
  {
   "cell_type": "markdown",
   "id": "65b38ad0",
   "metadata": {},
   "source": [
    "**Задание 9** (2 балла)\n",
    "\n",
    "Реализуйте функцию, принимающую на вход матрицу X и некоторое число a, возвращающую ближайший к заданному числу элемент матрицы."
   ]
  },
  {
   "cell_type": "code",
   "execution_count": 20,
   "id": "d2941c51",
   "metadata": {},
   "outputs": [],
   "source": [
    "# np.abs, np.where"
   ]
  },
  {
   "cell_type": "code",
   "execution_count": 21,
   "id": "3ddc6e57",
   "metadata": {},
   "outputs": [],
   "source": [
    "def nearest_value(X, a):\n",
    "    return X.ravel()[np.abs(X.ravel() - a).argmin()]"
   ]
  },
  {
   "cell_type": "code",
   "execution_count": 22,
   "id": "423c3449",
   "metadata": {},
   "outputs": [],
   "source": [
    "assert nearest_value(np.array([[1,2,3,4],[5,6,7,8],[9,10,11,12]]), 7.6) == 8\n",
    "assert nearest_value(np.array([[1,2,3,4],[5,-2,7,8],[9,10,11,12]]), -1) == -2"
   ]
  },
  {
   "cell_type": "markdown",
   "id": "f3a25cc6",
   "metadata": {},
   "source": [
    "**Задание 10** (2 балла)\n",
    "\n",
    "Реализуйте функцию, принимающую на вход матрицу X и возвращающую все её уникальные столбцы в виде матрицы."
   ]
  },
  {
   "cell_type": "code",
   "execution_count": 23,
   "id": "542dbb39",
   "metadata": {},
   "outputs": [],
   "source": [
    "# np.unique"
   ]
  },
  {
   "cell_type": "code",
   "execution_count": 24,
   "id": "5b752d5b",
   "metadata": {},
   "outputs": [],
   "source": [
    "def get_unique_columns(X):\n",
    "    _, index = np.unique(X, axis=1, return_index=True)\n",
    "    return X[:, np.sort(index)]"
   ]
  },
  {
   "cell_type": "code",
   "execution_count": 25,
   "id": "d0bc6b47",
   "metadata": {},
   "outputs": [],
   "source": [
    "assert (get_unique_columns(np.array([[1,0,1,0,1],\n",
    "                                  [1,1,0,1,1],\n",
    "                                  [1,0,1,0,1],\n",
    "                                  [0,0,0,0,0],\n",
    "                                  [1,1,0,1,1]])) == np.array([[1,1,1,0,1],\n",
    "                                                              [0,1,0,0,1],\n",
    "                                                              [1,0,1,0,0]]).T).all()"
   ]
  },
  {
   "cell_type": "markdown",
   "id": "ffe72ee7",
   "metadata": {},
   "source": [
    "**Задание 11** (2 балла)\n",
    "\n",
    "Реализуйте функцию, которая во входной вещественной матрице X находит все значения nan и заменяет их на сумму всех остальных элементов. Если $\\forall i,j \\ X_{i,j} = np.nan, $ то верните матрицу нулей"
   ]
  },
  {
   "cell_type": "code",
   "execution_count": 26,
   "id": "25010f5d",
   "metadata": {},
   "outputs": [],
   "source": [
    "def replace_nans(X):\n",
    "    return np.nan_to_num(X,nan=np.nansum(np.array(X, dtype=float)))"
   ]
  },
  {
   "cell_type": "code",
   "execution_count": 27,
   "id": "77892809",
   "metadata": {},
   "outputs": [],
   "source": [
    "assert (replace_nans(np.array([[1,2,3,np.nan],\n",
    "                               [1,2,np.nan,3]])) == np.array([[1,2,3,12],\n",
    "                                                              [1,2,12,3]])).all()\n",
    "\n",
    "assert (replace_nans(np.array([[np.nan, np.nan, np.nan, np.nan],\n",
    "                               [np.nan, np.nan, np.nan, np.nan]])) == np.zeros((2,4))).all()"
   ]
  }
 ],
 "metadata": {
  "kernelspec": {
   "display_name": "Python 3 (ipykernel)",
   "language": "python",
   "name": "python3"
  },
  "language_info": {
   "codemirror_mode": {
    "name": "ipython",
    "version": 3
   },
   "file_extension": ".py",
   "mimetype": "text/x-python",
   "name": "python",
   "nbconvert_exporter": "python",
   "pygments_lexer": "ipython3",
   "version": "3.9.13"
  }
 },
 "nbformat": 4,
 "nbformat_minor": 5
}
